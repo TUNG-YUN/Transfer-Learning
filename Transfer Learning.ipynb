{
 "cells": [
  {
   "cell_type": "markdown",
   "id": "153f871f-d07f-4797-b276-60261d96a845",
   "metadata": {},
   "source": [
    "VGG16模型與自建的模型相結合，以cifar10資料集為例"
   ]
  },
  {
   "cell_type": "code",
   "execution_count": 1,
   "id": "8bffc467-2dbd-43f6-83e5-1b8875ae9e03",
   "metadata": {},
   "outputs": [
    {
     "name": "stdout",
     "output_type": "stream",
     "text": [
      "Requirement already satisfied: tensorflow in c:\\users\\rebecca\\anaconda3\\envs\\practice\\lib\\site-packages (2.15.0)\n",
      "Requirement already satisfied: tensorflow-intel==2.15.0 in c:\\users\\rebecca\\anaconda3\\envs\\practice\\lib\\site-packages (from tensorflow) (2.15.0)\n",
      "Requirement already satisfied: absl-py>=1.0.0 in c:\\users\\rebecca\\anaconda3\\envs\\practice\\lib\\site-packages (from tensorflow-intel==2.15.0->tensorflow) (2.0.0)\n",
      "Requirement already satisfied: astunparse>=1.6.0 in c:\\users\\rebecca\\anaconda3\\envs\\practice\\lib\\site-packages (from tensorflow-intel==2.15.0->tensorflow) (1.6.3)\n",
      "Requirement already satisfied: flatbuffers>=23.5.26 in c:\\users\\rebecca\\anaconda3\\envs\\practice\\lib\\site-packages (from tensorflow-intel==2.15.0->tensorflow) (23.5.26)\n",
      "Requirement already satisfied: gast!=0.5.0,!=0.5.1,!=0.5.2,>=0.2.1 in c:\\users\\rebecca\\anaconda3\\envs\\practice\\lib\\site-packages (from tensorflow-intel==2.15.0->tensorflow) (0.5.4)\n",
      "Requirement already satisfied: google-pasta>=0.1.1 in c:\\users\\rebecca\\anaconda3\\envs\\practice\\lib\\site-packages (from tensorflow-intel==2.15.0->tensorflow) (0.2.0)\n",
      "Requirement already satisfied: h5py>=2.9.0 in c:\\users\\rebecca\\anaconda3\\envs\\practice\\lib\\site-packages (from tensorflow-intel==2.15.0->tensorflow) (3.10.0)\n",
      "Requirement already satisfied: libclang>=13.0.0 in c:\\users\\rebecca\\anaconda3\\envs\\practice\\lib\\site-packages (from tensorflow-intel==2.15.0->tensorflow) (16.0.6)\n",
      "Requirement already satisfied: ml-dtypes~=0.2.0 in c:\\users\\rebecca\\anaconda3\\envs\\practice\\lib\\site-packages (from tensorflow-intel==2.15.0->tensorflow) (0.2.0)\n",
      "Requirement already satisfied: numpy<2.0.0,>=1.23.5 in c:\\users\\rebecca\\anaconda3\\envs\\practice\\lib\\site-packages (from tensorflow-intel==2.15.0->tensorflow) (1.26.2)\n",
      "Requirement already satisfied: opt-einsum>=2.3.2 in c:\\users\\rebecca\\anaconda3\\envs\\practice\\lib\\site-packages (from tensorflow-intel==2.15.0->tensorflow) (3.3.0)\n",
      "Requirement already satisfied: packaging in c:\\users\\rebecca\\anaconda3\\envs\\practice\\lib\\site-packages (from tensorflow-intel==2.15.0->tensorflow) (23.1)\n",
      "Requirement already satisfied: protobuf!=4.21.0,!=4.21.1,!=4.21.2,!=4.21.3,!=4.21.4,!=4.21.5,<5.0.0dev,>=3.20.3 in c:\\users\\rebecca\\anaconda3\\envs\\practice\\lib\\site-packages (from tensorflow-intel==2.15.0->tensorflow) (4.23.4)\n",
      "Requirement already satisfied: setuptools in c:\\users\\rebecca\\anaconda3\\envs\\practice\\lib\\site-packages (from tensorflow-intel==2.15.0->tensorflow) (68.0.0)\n",
      "Requirement already satisfied: six>=1.12.0 in c:\\users\\rebecca\\anaconda3\\envs\\practice\\lib\\site-packages (from tensorflow-intel==2.15.0->tensorflow) (1.16.0)\n",
      "Requirement already satisfied: termcolor>=1.1.0 in c:\\users\\rebecca\\anaconda3\\envs\\practice\\lib\\site-packages (from tensorflow-intel==2.15.0->tensorflow) (2.4.0)\n",
      "Requirement already satisfied: typing-extensions>=3.6.6 in c:\\users\\rebecca\\anaconda3\\envs\\practice\\lib\\site-packages (from tensorflow-intel==2.15.0->tensorflow) (4.7.1)\n",
      "Requirement already satisfied: wrapt<1.15,>=1.11.0 in c:\\users\\rebecca\\anaconda3\\envs\\practice\\lib\\site-packages (from tensorflow-intel==2.15.0->tensorflow) (1.14.1)\n",
      "Requirement already satisfied: tensorflow-io-gcs-filesystem>=0.23.1 in c:\\users\\rebecca\\anaconda3\\envs\\practice\\lib\\site-packages (from tensorflow-intel==2.15.0->tensorflow) (0.31.0)\n",
      "Requirement already satisfied: grpcio<2.0,>=1.24.3 in c:\\users\\rebecca\\anaconda3\\envs\\practice\\lib\\site-packages (from tensorflow-intel==2.15.0->tensorflow) (1.60.0)\n",
      "Requirement already satisfied: tensorboard<2.16,>=2.15 in c:\\users\\rebecca\\anaconda3\\envs\\practice\\lib\\site-packages (from tensorflow-intel==2.15.0->tensorflow) (2.15.1)\n",
      "Requirement already satisfied: tensorflow-estimator<2.16,>=2.15.0 in c:\\users\\rebecca\\anaconda3\\envs\\practice\\lib\\site-packages (from tensorflow-intel==2.15.0->tensorflow) (2.15.0)\n",
      "Requirement already satisfied: keras<2.16,>=2.15.0 in c:\\users\\rebecca\\anaconda3\\envs\\practice\\lib\\site-packages (from tensorflow-intel==2.15.0->tensorflow) (2.15.0)\n",
      "Requirement already satisfied: wheel<1.0,>=0.23.0 in c:\\users\\rebecca\\anaconda3\\envs\\practice\\lib\\site-packages (from astunparse>=1.6.0->tensorflow-intel==2.15.0->tensorflow) (0.41.2)\n",
      "Requirement already satisfied: google-auth<3,>=1.6.3 in c:\\users\\rebecca\\anaconda3\\envs\\practice\\lib\\site-packages (from tensorboard<2.16,>=2.15->tensorflow-intel==2.15.0->tensorflow) (2.25.2)\n",
      "Requirement already satisfied: google-auth-oauthlib<2,>=0.5 in c:\\users\\rebecca\\anaconda3\\envs\\practice\\lib\\site-packages (from tensorboard<2.16,>=2.15->tensorflow-intel==2.15.0->tensorflow) (1.2.0)\n",
      "Requirement already satisfied: markdown>=2.6.8 in c:\\users\\rebecca\\anaconda3\\envs\\practice\\lib\\site-packages (from tensorboard<2.16,>=2.15->tensorflow-intel==2.15.0->tensorflow) (3.5.1)\n",
      "Requirement already satisfied: requests<3,>=2.21.0 in c:\\users\\rebecca\\anaconda3\\envs\\practice\\lib\\site-packages (from tensorboard<2.16,>=2.15->tensorflow-intel==2.15.0->tensorflow) (2.31.0)\n",
      "Requirement already satisfied: tensorboard-data-server<0.8.0,>=0.7.0 in c:\\users\\rebecca\\anaconda3\\envs\\practice\\lib\\site-packages (from tensorboard<2.16,>=2.15->tensorflow-intel==2.15.0->tensorflow) (0.7.2)\n",
      "Requirement already satisfied: werkzeug>=1.0.1 in c:\\users\\rebecca\\anaconda3\\envs\\practice\\lib\\site-packages (from tensorboard<2.16,>=2.15->tensorflow-intel==2.15.0->tensorflow) (3.0.1)\n",
      "Requirement already satisfied: cachetools<6.0,>=2.0.0 in c:\\users\\rebecca\\anaconda3\\envs\\practice\\lib\\site-packages (from google-auth<3,>=1.6.3->tensorboard<2.16,>=2.15->tensorflow-intel==2.15.0->tensorflow) (5.3.2)\n",
      "Requirement already satisfied: pyasn1-modules>=0.2.1 in c:\\users\\rebecca\\anaconda3\\envs\\practice\\lib\\site-packages (from google-auth<3,>=1.6.3->tensorboard<2.16,>=2.15->tensorflow-intel==2.15.0->tensorflow) (0.3.0)\n",
      "Requirement already satisfied: rsa<5,>=3.1.4 in c:\\users\\rebecca\\anaconda3\\envs\\practice\\lib\\site-packages (from google-auth<3,>=1.6.3->tensorboard<2.16,>=2.15->tensorflow-intel==2.15.0->tensorflow) (4.9)\n",
      "Requirement already satisfied: requests-oauthlib>=0.7.0 in c:\\users\\rebecca\\anaconda3\\envs\\practice\\lib\\site-packages (from google-auth-oauthlib<2,>=0.5->tensorboard<2.16,>=2.15->tensorflow-intel==2.15.0->tensorflow) (1.3.1)\n",
      "Requirement already satisfied: charset-normalizer<4,>=2 in c:\\users\\rebecca\\anaconda3\\envs\\practice\\lib\\site-packages (from requests<3,>=2.21.0->tensorboard<2.16,>=2.15->tensorflow-intel==2.15.0->tensorflow) (2.0.4)\n",
      "Requirement already satisfied: idna<4,>=2.5 in c:\\users\\rebecca\\anaconda3\\envs\\practice\\lib\\site-packages (from requests<3,>=2.21.0->tensorboard<2.16,>=2.15->tensorflow-intel==2.15.0->tensorflow) (3.4)\n",
      "Requirement already satisfied: urllib3<3,>=1.21.1 in c:\\users\\rebecca\\anaconda3\\envs\\practice\\lib\\site-packages (from requests<3,>=2.21.0->tensorboard<2.16,>=2.15->tensorflow-intel==2.15.0->tensorflow) (1.26.18)\n",
      "Requirement already satisfied: certifi>=2017.4.17 in c:\\users\\rebecca\\anaconda3\\envs\\practice\\lib\\site-packages (from requests<3,>=2.21.0->tensorboard<2.16,>=2.15->tensorflow-intel==2.15.0->tensorflow) (2023.11.17)\n",
      "Requirement already satisfied: MarkupSafe>=2.1.1 in c:\\users\\rebecca\\anaconda3\\envs\\practice\\lib\\site-packages (from werkzeug>=1.0.1->tensorboard<2.16,>=2.15->tensorflow-intel==2.15.0->tensorflow) (2.1.1)\n",
      "Requirement already satisfied: pyasn1<0.6.0,>=0.4.6 in c:\\users\\rebecca\\anaconda3\\envs\\practice\\lib\\site-packages (from pyasn1-modules>=0.2.1->google-auth<3,>=1.6.3->tensorboard<2.16,>=2.15->tensorflow-intel==2.15.0->tensorflow) (0.5.1)\n",
      "Requirement already satisfied: oauthlib>=3.0.0 in c:\\users\\rebecca\\anaconda3\\envs\\practice\\lib\\site-packages (from requests-oauthlib>=0.7.0->google-auth-oauthlib<2,>=0.5->tensorboard<2.16,>=2.15->tensorflow-intel==2.15.0->tensorflow) (3.2.2)\n",
      "Note: you may need to restart the kernel to use updated packages.\n"
     ]
    }
   ],
   "source": [
    "pip install tensorflow"
   ]
  },
  {
   "cell_type": "code",
   "execution_count": 13,
   "id": "958dfbb9-6331-424b-9703-fc30ae83f796",
   "metadata": {},
   "outputs": [
    {
     "name": "stdout",
     "output_type": "stream",
     "text": [
      "Requirement already satisfied: tensorflow in c:\\users\\rebecca\\anaconda3\\envs\\practice\\lib\\site-packages (2.15.0)\n",
      "Requirement already satisfied: tensorflow-intel==2.15.0 in c:\\users\\rebecca\\anaconda3\\envs\\practice\\lib\\site-packages (from tensorflow) (2.15.0)\n",
      "Requirement already satisfied: absl-py>=1.0.0 in c:\\users\\rebecca\\anaconda3\\envs\\practice\\lib\\site-packages (from tensorflow-intel==2.15.0->tensorflow) (2.0.0)\n",
      "Requirement already satisfied: astunparse>=1.6.0 in c:\\users\\rebecca\\anaconda3\\envs\\practice\\lib\\site-packages (from tensorflow-intel==2.15.0->tensorflow) (1.6.3)\n",
      "Requirement already satisfied: flatbuffers>=23.5.26 in c:\\users\\rebecca\\anaconda3\\envs\\practice\\lib\\site-packages (from tensorflow-intel==2.15.0->tensorflow) (23.5.26)\n",
      "Requirement already satisfied: gast!=0.5.0,!=0.5.1,!=0.5.2,>=0.2.1 in c:\\users\\rebecca\\anaconda3\\envs\\practice\\lib\\site-packages (from tensorflow-intel==2.15.0->tensorflow) (0.5.4)\n",
      "Requirement already satisfied: google-pasta>=0.1.1 in c:\\users\\rebecca\\anaconda3\\envs\\practice\\lib\\site-packages (from tensorflow-intel==2.15.0->tensorflow) (0.2.0)\n",
      "Requirement already satisfied: h5py>=2.9.0 in c:\\users\\rebecca\\anaconda3\\envs\\practice\\lib\\site-packages (from tensorflow-intel==2.15.0->tensorflow) (3.10.0)\n",
      "Requirement already satisfied: libclang>=13.0.0 in c:\\users\\rebecca\\anaconda3\\envs\\practice\\lib\\site-packages (from tensorflow-intel==2.15.0->tensorflow) (16.0.6)\n",
      "Requirement already satisfied: ml-dtypes~=0.2.0 in c:\\users\\rebecca\\anaconda3\\envs\\practice\\lib\\site-packages (from tensorflow-intel==2.15.0->tensorflow) (0.2.0)\n",
      "Requirement already satisfied: numpy<2.0.0,>=1.23.5 in c:\\users\\rebecca\\anaconda3\\envs\\practice\\lib\\site-packages (from tensorflow-intel==2.15.0->tensorflow) (1.26.2)\n",
      "Requirement already satisfied: opt-einsum>=2.3.2 in c:\\users\\rebecca\\anaconda3\\envs\\practice\\lib\\site-packages (from tensorflow-intel==2.15.0->tensorflow) (3.3.0)\n",
      "Requirement already satisfied: packaging in c:\\users\\rebecca\\anaconda3\\envs\\practice\\lib\\site-packages (from tensorflow-intel==2.15.0->tensorflow) (23.1)\n",
      "Requirement already satisfied: protobuf!=4.21.0,!=4.21.1,!=4.21.2,!=4.21.3,!=4.21.4,!=4.21.5,<5.0.0dev,>=3.20.3 in c:\\users\\rebecca\\anaconda3\\envs\\practice\\lib\\site-packages (from tensorflow-intel==2.15.0->tensorflow) (4.23.4)\n",
      "Requirement already satisfied: setuptools in c:\\users\\rebecca\\anaconda3\\envs\\practice\\lib\\site-packages (from tensorflow-intel==2.15.0->tensorflow) (68.0.0)\n",
      "Requirement already satisfied: six>=1.12.0 in c:\\users\\rebecca\\anaconda3\\envs\\practice\\lib\\site-packages (from tensorflow-intel==2.15.0->tensorflow) (1.16.0)\n",
      "Requirement already satisfied: termcolor>=1.1.0 in c:\\users\\rebecca\\anaconda3\\envs\\practice\\lib\\site-packages (from tensorflow-intel==2.15.0->tensorflow) (2.4.0)\n",
      "Requirement already satisfied: typing-extensions>=3.6.6 in c:\\users\\rebecca\\anaconda3\\envs\\practice\\lib\\site-packages (from tensorflow-intel==2.15.0->tensorflow) (4.7.1)\n",
      "Requirement already satisfied: wrapt<1.15,>=1.11.0 in c:\\users\\rebecca\\anaconda3\\envs\\practice\\lib\\site-packages (from tensorflow-intel==2.15.0->tensorflow) (1.14.1)\n",
      "Requirement already satisfied: tensorflow-io-gcs-filesystem>=0.23.1 in c:\\users\\rebecca\\anaconda3\\envs\\practice\\lib\\site-packages (from tensorflow-intel==2.15.0->tensorflow) (0.31.0)\n",
      "Requirement already satisfied: grpcio<2.0,>=1.24.3 in c:\\users\\rebecca\\anaconda3\\envs\\practice\\lib\\site-packages (from tensorflow-intel==2.15.0->tensorflow) (1.60.0)\n",
      "Requirement already satisfied: tensorboard<2.16,>=2.15 in c:\\users\\rebecca\\anaconda3\\envs\\practice\\lib\\site-packages (from tensorflow-intel==2.15.0->tensorflow) (2.15.1)\n",
      "Requirement already satisfied: tensorflow-estimator<2.16,>=2.15.0 in c:\\users\\rebecca\\anaconda3\\envs\\practice\\lib\\site-packages (from tensorflow-intel==2.15.0->tensorflow) (2.15.0)\n",
      "Requirement already satisfied: keras<2.16,>=2.15.0 in c:\\users\\rebecca\\anaconda3\\envs\\practice\\lib\\site-packages (from tensorflow-intel==2.15.0->tensorflow) (2.15.0)\n",
      "Requirement already satisfied: wheel<1.0,>=0.23.0 in c:\\users\\rebecca\\anaconda3\\envs\\practice\\lib\\site-packages (from astunparse>=1.6.0->tensorflow-intel==2.15.0->tensorflow) (0.41.2)\n",
      "Requirement already satisfied: google-auth<3,>=1.6.3 in c:\\users\\rebecca\\anaconda3\\envs\\practice\\lib\\site-packages (from tensorboard<2.16,>=2.15->tensorflow-intel==2.15.0->tensorflow) (2.25.2)\n",
      "Requirement already satisfied: google-auth-oauthlib<2,>=0.5 in c:\\users\\rebecca\\anaconda3\\envs\\practice\\lib\\site-packages (from tensorboard<2.16,>=2.15->tensorflow-intel==2.15.0->tensorflow) (1.2.0)\n",
      "Requirement already satisfied: markdown>=2.6.8 in c:\\users\\rebecca\\anaconda3\\envs\\practice\\lib\\site-packages (from tensorboard<2.16,>=2.15->tensorflow-intel==2.15.0->tensorflow) (3.5.1)\n",
      "Requirement already satisfied: requests<3,>=2.21.0 in c:\\users\\rebecca\\anaconda3\\envs\\practice\\lib\\site-packages (from tensorboard<2.16,>=2.15->tensorflow-intel==2.15.0->tensorflow) (2.31.0)\n",
      "Requirement already satisfied: tensorboard-data-server<0.8.0,>=0.7.0 in c:\\users\\rebecca\\anaconda3\\envs\\practice\\lib\\site-packages (from tensorboard<2.16,>=2.15->tensorflow-intel==2.15.0->tensorflow) (0.7.2)\n",
      "Requirement already satisfied: werkzeug>=1.0.1 in c:\\users\\rebecca\\anaconda3\\envs\\practice\\lib\\site-packages (from tensorboard<2.16,>=2.15->tensorflow-intel==2.15.0->tensorflow) (3.0.1)\n",
      "Requirement already satisfied: cachetools<6.0,>=2.0.0 in c:\\users\\rebecca\\anaconda3\\envs\\practice\\lib\\site-packages (from google-auth<3,>=1.6.3->tensorboard<2.16,>=2.15->tensorflow-intel==2.15.0->tensorflow) (5.3.2)\n",
      "Requirement already satisfied: pyasn1-modules>=0.2.1 in c:\\users\\rebecca\\anaconda3\\envs\\practice\\lib\\site-packages (from google-auth<3,>=1.6.3->tensorboard<2.16,>=2.15->tensorflow-intel==2.15.0->tensorflow) (0.3.0)\n",
      "Requirement already satisfied: rsa<5,>=3.1.4 in c:\\users\\rebecca\\anaconda3\\envs\\practice\\lib\\site-packages (from google-auth<3,>=1.6.3->tensorboard<2.16,>=2.15->tensorflow-intel==2.15.0->tensorflow) (4.9)\n",
      "Requirement already satisfied: requests-oauthlib>=0.7.0 in c:\\users\\rebecca\\anaconda3\\envs\\practice\\lib\\site-packages (from google-auth-oauthlib<2,>=0.5->tensorboard<2.16,>=2.15->tensorflow-intel==2.15.0->tensorflow) (1.3.1)\n",
      "Requirement already satisfied: charset-normalizer<4,>=2 in c:\\users\\rebecca\\anaconda3\\envs\\practice\\lib\\site-packages (from requests<3,>=2.21.0->tensorboard<2.16,>=2.15->tensorflow-intel==2.15.0->tensorflow) (2.0.4)\n",
      "Requirement already satisfied: idna<4,>=2.5 in c:\\users\\rebecca\\anaconda3\\envs\\practice\\lib\\site-packages (from requests<3,>=2.21.0->tensorboard<2.16,>=2.15->tensorflow-intel==2.15.0->tensorflow) (3.4)\n",
      "Requirement already satisfied: urllib3<3,>=1.21.1 in c:\\users\\rebecca\\anaconda3\\envs\\practice\\lib\\site-packages (from requests<3,>=2.21.0->tensorboard<2.16,>=2.15->tensorflow-intel==2.15.0->tensorflow) (1.26.18)\n",
      "Requirement already satisfied: certifi>=2017.4.17 in c:\\users\\rebecca\\anaconda3\\envs\\practice\\lib\\site-packages (from requests<3,>=2.21.0->tensorboard<2.16,>=2.15->tensorflow-intel==2.15.0->tensorflow) (2023.11.17)\n",
      "Requirement already satisfied: MarkupSafe>=2.1.1 in c:\\users\\rebecca\\anaconda3\\envs\\practice\\lib\\site-packages (from werkzeug>=1.0.1->tensorboard<2.16,>=2.15->tensorflow-intel==2.15.0->tensorflow) (2.1.1)\n",
      "Requirement already satisfied: pyasn1<0.6.0,>=0.4.6 in c:\\users\\rebecca\\anaconda3\\envs\\practice\\lib\\site-packages (from pyasn1-modules>=0.2.1->google-auth<3,>=1.6.3->tensorboard<2.16,>=2.15->tensorflow-intel==2.15.0->tensorflow) (0.5.1)\n",
      "Requirement already satisfied: oauthlib>=3.0.0 in c:\\users\\rebecca\\anaconda3\\envs\\practice\\lib\\site-packages (from requests-oauthlib>=0.7.0->google-auth-oauthlib<2,>=0.5->tensorboard<2.16,>=2.15->tensorflow-intel==2.15.0->tensorflow) (3.2.2)\n",
      "Note: you may need to restart the kernel to use updated packages.\n"
     ]
    }
   ],
   "source": [
    "pip install --upgrade tensorflow"
   ]
  },
  {
   "cell_type": "code",
   "execution_count": 7,
   "id": "77190aa1-6c4a-4c5b-91bc-61434861ae0e",
   "metadata": {},
   "outputs": [],
   "source": [
    "import tensorflow as tf\n",
    "\n",
    "from tensorflow.keras.applications import VGG16    # 多匯入這個\n",
    "from tensorflow.keras.datasets import cifar10\n",
    "\n",
    "from tensorflow.keras.layers import Input, Dense, Dropout, Flatten\n",
    "from tensorflow.keras.models import Model,Sequential\n",
    "from tensorflow.keras.utils import to_categorical\n",
    "import matplotlib.pyplot as plt\n",
    "import numpy as np \n",
    "\n",
    "#載入cifar-10數據集\n",
    "(x_train, y_train), (x_test, y_test) = cifar10.load_data()\n",
    "\n",
    "#正規化像素質到範圍[0,1]\n",
    "x_train, x_test = x_train/255.0, x_test/255.0\n",
    "\n",
    "# 對標籤進行編碼\n",
    "y_train = to_categorical(y_train,10)\n",
    "y_test = to_categorical(y_test,10)"
   ]
  },
  {
   "cell_type": "markdown",
   "id": "8ca291c1-f8b6-49e5-b79a-125f4c8f7397",
   "metadata": {},
   "source": [
    "匯入套件後，首先建立一個VGG模型"
   ]
  },
  {
   "cell_type": "code",
   "execution_count": 9,
   "id": "f4e052fe-053e-437b-ba50-58b0f70d580f",
   "metadata": {},
   "outputs": [],
   "source": [
    "input_tensor = Input(shape=(32,32,3))   # 指定輸入資料的shape(cifar10資料集是32*32的彩色圖片)\n",
    "vgg16 = VGG16(include_top = False, weights='imagenet',input_tensor=input_tensor)\n",
    "# include_top = False : 是否使用原始模型最後的全連接層。設置為False的話，就只使用原始模型的卷積部分，做圖像特徵提取使用，然後再接到自己的模型\n",
    "# weights = 'imagenet' : weights 指定imagenet，就代表利用ImageNet資料集所訓練好的權重"
   ]
  },
  {
   "cell_type": "markdown",
   "id": "e1edc514-6f14-408f-8605-22f9781c5513",
   "metadata": {},
   "source": [
    "接著要在vgg16後面添加其他層。這邊定義一個top_model，然後將兩個模型做結合"
   ]
  },
  {
   "cell_type": "code",
   "execution_count": 32,
   "id": "f6a8399a-1d54-4814-931f-755d1cbad96e",
   "metadata": {},
   "outputs": [],
   "source": [
    "top_model = vgg16.output # vgg16的輸出(output)之後緊接著top_model\n",
    "\n",
    "# 依序建立展平層、密集層、Dropout層、密集(輸出)層\n",
    "top_model = Flatten(input_shape=vgg16.output_shape[1:])(top_model)\n",
    "top_model = Dense(256,activation='sigmoid')(top_model)\n",
    "top_model = Dropout(0.5)(top_model)\n",
    "\n",
    "top_model = Dense(10, activation='softmax')(top_model)   # 每一行後面都要加上這樣的敘述\n",
    "\n",
    "model = Model(inputs=vgg16.input, outputs=top_model)  # 用上面第一行的vgg16.input(輸入)和最後一行的top_model(輸出)來建立模型"
   ]
  },
  {
   "cell_type": "markdown",
   "id": "c07b530d-0757-41d7-b858-796dd7092158",
   "metadata": {},
   "source": [
    "補充 : \n",
    "1.建構模型的語法和之前有點不一樣，之前都是用Sequential類別建構序列模型，此處用了另一種稱為函數式API(Functional API)的方式，它可以用來建立任何架構的神經網路(例如有分岔的神經網路)\n",
    "2. 上面語法不難，主要就是每一行的最後都要以函數 (function)呼叫的方式來建立層與層的連結，因此上面可以看到最後都要加上(top_model)的敘述(一直呼叫然後串起來就對了)"
   ]
  },
  {
   "cell_type": "markdown",
   "id": "22c2eb69-e53a-4bac-8908-2a56dd42f959",
   "metadata": {},
   "source": [
    "將原始vgg模型前19層的權重[凍結]起來(準備直接拿來用)，以免破壞了ImageNet資料集訓練好的知識(權重)\n",
    "凍結權重的語法"
   ]
  },
  {
   "cell_type": "markdown",
   "id": "3d241e07-dc4d-444a-8fc5-22fc762c4c39",
   "metadata": {},
   "source": [
    "補充 : \n",
    "1. 使用VGG做遷移學習的目的就是想借重它萃取特徵的權重，而特徵依距離輸入資料的遠近也有高、低階之分。較靠近輸入資料的低階特徵普遍存在於大部分的圖片之中(如邊緣、線條)，所以這些低階特徵層的通用性很高，很適合凍結起來並遷移過來用(即凍結的那19層權重)。而沒有凍結那些層的權重我們還是要訓練，這些通常是萃取高階特徵的權重，這些權重都只適合它原本的訓練樣本(ImageNet 資料集)，如今面對的樣本改成了cifar10，當然必須重新訓練"
   ]
  },
  {
   "cell_type": "code",
   "execution_count": 12,
   "id": "c2e90d0c-0826-4f7d-be3a-65a54519e06f",
   "metadata": {},
   "outputs": [],
   "source": [
    "for layer in model.layers[:19]:   # 將前19層的權重凍結不做訓練\n",
    "    layer.trainable = False   "
   ]
  },
  {
   "cell_type": "markdown",
   "id": "3ba60ee6-67fb-4361-a8b3-c519d6e93ea1",
   "metadata": {},
   "source": [
    "編譯與訓練模型"
   ]
  },
  {
   "cell_type": "code",
   "execution_count": 25,
   "id": "f3c4c6dc-84a8-44ad-9ae0-a4d776417aa7",
   "metadata": {},
   "outputs": [
    {
     "name": "stdout",
     "output_type": "stream",
     "text": [
      "Epoch 1/5\n",
      "1563/1563 [==============================] - 12s 7ms/step - loss: 0.6439 - accuracy: 0.7748 - val_loss: 0.9035 - val_accuracy: 0.7038\n",
      "Epoch 2/5\n",
      "1563/1563 [==============================] - 10s 6ms/step - loss: 0.6201 - accuracy: 0.7843 - val_loss: 0.9534 - val_accuracy: 0.6912\n",
      "Epoch 3/5\n",
      "1563/1563 [==============================] - 10s 6ms/step - loss: 0.6029 - accuracy: 0.7885 - val_loss: 0.9131 - val_accuracy: 0.7037\n",
      "Epoch 4/5\n",
      "1563/1563 [==============================] - 10s 6ms/step - loss: 0.5807 - accuracy: 0.7961 - val_loss: 0.9307 - val_accuracy: 0.6983\n",
      "Epoch 5/5\n",
      "1563/1563 [==============================] - 10s 6ms/step - loss: 0.5694 - accuracy: 0.8006 - val_loss: 0.9569 - val_accuracy: 0.6969\n",
      "313/313 [==============================] - 1s 2ms/step - loss: 0.9569 - accuracy: 0.6969\n",
      "Test loss: 0.9569242000579834\n",
      "Test accuracy: 0.6969000101089478\n"
     ]
    }
   ],
   "source": [
    "model.compile(loss='categorical_crossentropy',optimizer='adam',metrics=['accuracy'])\n",
    "\n",
    "# 指定訓練批次量以及訓練週期\n",
    "history_transfer = model.fit(x_train,y_train,validation_data=(x_test,y_test),batch_size=32,epochs=5)\n",
    "\n",
    "score = model.evaluate(x_test,y_test,verbose=1)\n",
    "print('Test loss:',score[0])\n",
    "print('Test accuracy:',score[1])"
   ]
  },
  {
   "cell_type": "markdown",
   "id": "3e3e06b9-145c-4ad5-b7d4-82549e1c372a",
   "metadata": {},
   "source": [
    "一般的CNN模型"
   ]
  },
  {
   "cell_type": "code",
   "execution_count": 20,
   "id": "99cd4349-9fb5-43ce-adfd-ecc6939b82ad",
   "metadata": {},
   "outputs": [],
   "source": [
    "\n",
    "import tensorflow as tf\n",
    "\n",
    "from tensorflow.keras.applications import VGG16    # 多匯入這個\n",
    "from tensorflow.keras.datasets import cifar10\n",
    "\n",
    "from tensorflow.keras.layers import Input, Dense, Dropout, Flatten\n",
    "from tensorflow.keras.layers import Conv2D, MaxPooling2D\n",
    "from tensorflow.keras.models import Model,Sequential\n",
    "from tensorflow.keras.utils import to_categorical\n",
    "import matplotlib.pyplot as plt\n",
    "import numpy as np \n",
    "\n",
    "#載入cifar-10數據集\n",
    "(x_train, y_train), (x_test, y_test) = cifar10.load_data()\n",
    "\n",
    "#正規化像素質到範圍[0,1]\n",
    "x_train, x_test = x_train/255.0, x_test/255.0\n",
    "\n",
    "# 對標籤進行編碼\n",
    "y_train = to_categorical(y_train,10)\n",
    "y_test = to_categorical(y_test,10)"
   ]
  },
  {
   "cell_type": "markdown",
   "id": "6a58ff5d-3378-47f9-b1bf-fb08cf0ae8a5",
   "metadata": {},
   "source": [
    "建立模型"
   ]
  },
  {
   "cell_type": "code",
   "execution_count": 21,
   "id": "07e9fbf5-946d-4b2e-acd8-3d0a2354d263",
   "metadata": {},
   "outputs": [],
   "source": [
    "model = Sequential()    # 建立模型物件\n",
    "model.add(Conv2D(32,(3,3), padding='same', activation='relu',input_shape=x_train.shape[1:]))\n",
    "model.add(MaxPooling2D(pool_size=(2,2)))\n",
    "model.add(Conv2D(64,(3,3),activation='relu'))\n",
    "model.add(MaxPooling2D(pool_size=(2,2)))\n",
    "model.add(Flatten())\n",
    "model.add(Dense(10,activation='softmax'))"
   ]
  },
  {
   "cell_type": "markdown",
   "id": "65228518-353d-4823-8ef4-f9a06f5a1d67",
   "metadata": {},
   "source": [
    "編譯模型"
   ]
  },
  {
   "cell_type": "code",
   "execution_count": 22,
   "id": "c4f7a2ef-f07e-4528-bf86-c9f7cbdc3d79",
   "metadata": {},
   "outputs": [],
   "source": [
    "model.compile(loss='categorical_crossentropy',optimizer='adam',metrics=['accuracy'])"
   ]
  },
  {
   "cell_type": "markdown",
   "id": "fe1eb295-b687-4d64-ad2f-acf9fef1567f",
   "metadata": {},
   "source": [
    "訓練模型"
   ]
  },
  {
   "cell_type": "code",
   "execution_count": 24,
   "id": "ccf8d064-4ec9-4ddd-803f-be9b6be7804c",
   "metadata": {},
   "outputs": [
    {
     "name": "stdout",
     "output_type": "stream",
     "text": [
      "Epoch 1/5\n",
      "1563/1563 [==============================] - 14s 9ms/step - loss: 0.7905 - accuracy: 0.7258 - val_loss: 0.9168 - val_accuracy: 0.6854\n",
      "Epoch 2/5\n",
      "1563/1563 [==============================] - 14s 9ms/step - loss: 0.7533 - accuracy: 0.7402 - val_loss: 0.9209 - val_accuracy: 0.6887\n",
      "Epoch 3/5\n",
      "1563/1563 [==============================] - 12s 8ms/step - loss: 0.7203 - accuracy: 0.7504 - val_loss: 0.8819 - val_accuracy: 0.7018\n",
      "Epoch 4/5\n",
      "1563/1563 [==============================] - 10s 7ms/step - loss: 0.6882 - accuracy: 0.7587 - val_loss: 0.9097 - val_accuracy: 0.6951\n",
      "Epoch 5/5\n",
      "1563/1563 [==============================] - 10s 7ms/step - loss: 0.6650 - accuracy: 0.7706 - val_loss: 0.9129 - val_accuracy: 0.6963\n"
     ]
    }
   ],
   "source": [
    "history_no_transfer= model.fit(x_train,y_train,validation_data=(x_test,y_test),batch_size=32,epochs=5)\n",
    "#scores = model.evaluate(x_test,y_test,verbose=1)\n",
    "#print('Test loss:', scores[0])\n",
    "#print('Test accuracy:',scores[1])"
   ]
  },
  {
   "cell_type": "markdown",
   "id": "d24976b2-4061-4df5-871c-61649bd28881",
   "metadata": {},
   "source": [
    "畫出使用遷移學習和未使用遷移學習的圖"
   ]
  },
  {
   "cell_type": "code",
   "execution_count": 31,
   "id": "cff403eb-fc60-4386-85f5-ec0ca141d5dd",
   "metadata": {},
   "outputs": [
    {
     "data": {
      "text/plain": [
       "Text(0, 0.5, 'Accuracy')"
      ]
     },
     "execution_count": 31,
     "metadata": {},
     "output_type": "execute_result"
    },
    {
     "data": {
      "image/png": "[encoded data removed]",
      "text/plain": [
       "<Figure size 640x480 with 1 Axes>"
      ]
     },
     "metadata": {},
     "output_type": "display_data"
    }
   ],
   "source": [
    "\n",
    "import matplotlib.pyplot as plt\n",
    "\n",
    "# 假設 history_transfer 存儲了有遷移學習的模型歷史，history_no_transfer 存儲了無遷移學習的模型歷史\n",
    "loss_transfer = history_transfer.history['loss']\n",
    "val_loss_transfer = history_transfer.history['val_loss']\n",
    "accuracy_transfer = history_transfer.history['accuracy']\n",
    "val_accuracy_transfer = history_transfer.history['val_accuracy']\n",
    "\n",
    "loss_no_transfer = history_no_transfer.history['loss']\n",
    "val_loss_no_transfer = history_no_transfer.history['val_loss']\n",
    "accuracy_no_transfer = history_no_transfer.history['accuracy']\n",
    "val_accuracy_no_transfer = history_no_transfer.history['val_accuracy']\n",
    "\n",
    "\n",
    "epochs = range(1, len(accuracy_transfer) + 1)\n",
    "\n",
    "# 繪製有遷移學習的模型準確率曲線\n",
    "plt.plot(epochs, accuracy_transfer, 'b', label='Transfer Learning Training Accuracy')\n",
    "plt.plot(epochs, val_accuracy_transfer, 'r', label='Transfer Learning Validation Accuracy')\n",
    "\n",
    "# 繪製無遷移學習的模型準確率曲線\n",
    "plt.plot(epochs, accuracy_no_transfer, 'g', label='No Transfer Learning Training Accuracy')\n",
    "plt.plot(epochs, val_accuracy_no_transfer, 'c', label='No Transfer Learning Validation Accuracy')\n",
    "plt.title('Transfer Learning and No Transfer Learning Accuracy')\n",
    "plt.legend(loc='upper left')\n",
    "plt.xlabel('Epoch')   # x軸\n",
    "plt.ylabel('Accuracy')  # y軸\n"
   ]
  },
  {
   "cell_type": "code",
   "execution_count": null,
   "id": "45da3ca8-d639-4565-b477-3d1712fd20d2",
   "metadata": {},
   "outputs": [],
   "source": []
  }
 ],
 "metadata": {
  "kernelspec": {
   "display_name": "Python 3 (ipykernel)",
   "language": "python",
   "name": "python3"
  },
  "language_info": {
   "codemirror_mode": {
    "name": "ipython",
    "version": 3
   },
   "file_extension": ".py",
   "mimetype": "text/x-python",
   "name": "python",
   "nbconvert_exporter": "python",
   "pygments_lexer": "ipython3",
   "version": "3.10.13"
  }
 },
 "nbformat": 4,
 "nbformat_minor": 5
}
